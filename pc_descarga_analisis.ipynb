{
 "cells": [
  {
   "attachments": {},
   "cell_type": "markdown",
   "metadata": {},
   "source": [
    "### Curso especializado de percepción remota aplicado a la detección y análisis de  incendios forestales. \n",
    "LANOT, Instituto de Geografía, UNAM."
   ]
  },
  {
   "attachments": {},
   "cell_type": "markdown",
   "metadata": {},
   "source": [
    "### Conexion y descarga de datos"
   ]
  },
  {
   "cell_type": "code",
   "execution_count": null,
   "metadata": {},
   "outputs": [],
   "source": [
    "# Se importan las librerias necesarias\n",
    "import geopandas as gpd\n",
    "import psycopg2"
   ]
  },
  {
   "cell_type": "code",
   "execution_count": null,
   "metadata": {},
   "outputs": [],
   "source": [
    "# Establece los parámetros de conexión a la base de datos PostgreSQL\n",
    "host = '132.247.103.145'\n",
    "database = 'fires'\n",
    "user = 'fires'\n",
    "password = 'firesdbgis'\n",
    "port = '5433'\n",
    "# Establece la cadena de conexión\n",
    "conn_str = f\"host={host} dbname={database} user={user} password={password} port={port}\"\n",
    "# Crea una conexión a la base de datos PostgreSQL\n",
    "conn = psycopg2.connect(conn_str)\n",
    "# Define la consulta SQL para obtener los datos geoespaciales\n",
    "sql_query = \"SELECT * FROM puntos_10m WHERE fecha = '2023-06-01'\"\n",
    "# Lee los datos geoespaciales desde la base de datos\n",
    "gdf = gpd.read_postgis(sql_query, conn)\n",
    "\n",
    "# Cierra la conexión a la base de datos\n",
    "conn.close()\n",
    "\n",
    "# Ahora puedes trabajar con los datos geoespaciales en GeoDataFrame (gdf)\n",
    "print(gdf.head())"
   ]
  }
 ],
 "metadata": {
  "kernelspec": {
   "display_name": "geomatic",
   "language": "python",
   "name": "python3"
  },
  "language_info": {
   "name": "python",
   "version": "3.10.0"
  },
  "orig_nbformat": 4
 },
 "nbformat": 4,
 "nbformat_minor": 2
}
