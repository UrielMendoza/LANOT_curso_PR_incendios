{
  "nbformat": 4,
  "nbformat_minor": 0,
  "metadata": {
    "colab": {
      "provenance": [],
      "authorship_tag": "ABX9TyMh1Zty0cE7BR6D+EewO2r+",
      "include_colab_link": true
    },
    "kernelspec": {
      "name": "python3",
      "display_name": "Python 3"
    },
    "language_info": {
      "name": "python"
    }
  },
  "cells": [
    {
      "cell_type": "markdown",
      "metadata": {
        "id": "view-in-github",
        "colab_type": "text"
      },
      "source": [
        "<a href=\"https://colab.research.google.com/github/UrielMendoza/LANOT_curso_PR_incendios/blob/main/pc_descarga_analisis.ipynb\" target=\"_parent\"><img src=\"https://colab.research.google.com/assets/colab-badge.svg\" alt=\"Open In Colab\"/></a>"
      ]
    },
    {
      "cell_type": "markdown",
      "source": [
        "# LANOT_curso_PR_incendios\n",
        "Curso especializado de percepción remota aplicado a la detección y análisis de incendios forestales.\n",
        "\n",
        "LANOT, Instituto de Geografía, UNAM.\n",
        "\n",
        "26 y 27 de junio de 2023.\n",
        "\n",
        "@autor: UrielMendoza\n",
        "\n",
        "@date: 2023-06-23"
      ],
      "metadata": {
        "id": "HivQOIugaB6F"
      }
    },
    {
      "cell_type": "markdown",
      "source": [
        "# Descarga"
      ],
      "metadata": {
        "id": "T2JJOokxZ1sv"
      }
    },
    {
      "cell_type": "markdown",
      "source": [
        "1. Instalación de módulos"
      ],
      "metadata": {
        "id": "piaSVvEtVZqY"
      }
    },
    {
      "cell_type": "code",
      "source": [
        "#!pip install geopandas\n",
        "#!pip install folium matplotlib mapclassify\n",
        "#!pip install cartopy\n",
        "#!pip install geodatasets"
      ],
      "metadata": {
        "id": "aBSF5KSSbs6T"
      },
      "execution_count": 18,
      "outputs": []
    },
    {
      "cell_type": "markdown",
      "source": [
        "Dependencias\n",
        "Las dependencias necesarias, que hemos instalado, son las siguientes:\n",
        "\n",
        "* numpy\n",
        "* pandas\n",
        "* shapely (interface de GEOS)\n",
        "* fiona (interface de GDAL)\n",
        "* pyproj (interface de PROJ)\n",
        "\n",
        "Además, hay otras dependencias opcionales, como:\n",
        "\n",
        "* rtree (opcional, índice espacial para mejorar el rendimiento y necesario para operaciones de superposición).\n",
        "* psycopg2 (para conexiones con PostGIS).\n",
        "* GeoAlchemy2 (para escribir en PostGIS).\n",
        "* geopy (para geocodificar como hemos comentado anteriormente).\n",
        "\n",
        "Para dibujar mapas, se pueden utilizar estos paquetes adicionales:\n",
        "\n",
        "* matplotlib\n",
        "* mapclassify\n",
        "* folium\n",
        "* cartopy"
      ],
      "metadata": {
        "id": "4bR-pWYzYAqt"
      }
    },
    {
      "cell_type": "markdown",
      "source": [
        "2. Importación de módulos"
      ],
      "metadata": {
        "id": "q5tYSLNFVovi"
      }
    },
    {
      "cell_type": "code",
      "execution_count": 2,
      "metadata": {
        "id": "kC_Z4i0cbYNE"
      },
      "outputs": [],
      "source": [
        "# Se importan las librerias necesarias\n",
        "import geopandas as gpd\n",
        "import psycopg2\n",
        "from cartopy import crs as ccrs\n",
        "from geodatasets import get_path\n",
        "import matplotlib.pyplot as plt\n",
        "import os"
      ]
    },
    {
      "cell_type": "markdown",
      "source": [
        "3. Conexión a la base de datos."
      ],
      "metadata": {
        "id": "NY1Zg6OlV3eO"
      }
    },
    {
      "cell_type": "code",
      "source": [
        "# Establece los parámetros de conexión a la base de datos PostgreSQL\n",
        "host = ''\n",
        "database = ''\n",
        "user = ''\n",
        "password = ''\n",
        "port = ''\n",
        "# Establece la cadena de conexión\n",
        "conn_str = f\"host={host} dbname={database} user={user} password={password} port={port}\""
      ],
      "metadata": {
        "id": "iYnUHq7qbpIf"
      },
      "execution_count": null,
      "outputs": []
    },
    {
      "cell_type": "markdown",
      "source": [
        "4. Consulta fecha especifica."
      ],
      "metadata": {
        "id": "zCqkJO1bWlFy"
      }
    },
    {
      "cell_type": "code",
      "source": [
        "# Crea una conexión a la base de datos PostgreSQL\n",
        "#conn = psycopg2.connect(conn_str)\n",
        "# Define la consulta SQL para obtener los datos geoespaciales 2023-06-16 fecha de analisis\n",
        "#sql_query = \"SELECT * FROM puntos_10m WHERE fecha ='2023-06-16' AND estado = 'SONORA'\"\n",
        "# Lee los datos geoespaciales desde la base de datos\n",
        "#gdf = gpd.read_postgis(sql_query, conn)\n",
        "\n",
        "# Cierra la conexión a la base de datos\n",
        "#conn.close()\n",
        "\n",
        "# Ahora puedes trabajar con los datos geoespaciales en GeoDataFrame (gdf)\n",
        "#print(gdf.head())"
      ],
      "metadata": {
        "id": "vrEr23TeWirk"
      },
      "execution_count": 4,
      "outputs": []
    },
    {
      "cell_type": "markdown",
      "source": [
        "![image.png](data:image/png;base64,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)"
      ],
      "metadata": {
        "id": "ejlhc602XuMl"
      }
    },
    {
      "cell_type": "markdown",
      "source": [
        "5. Plotear datos."
      ],
      "metadata": {
        "id": "ptWtjp6UW143"
      }
    },
    {
      "cell_type": "code",
      "source": [
        "# Ploteo básico\n",
        "#gdf.plot(\"dif_c07c14\", legend=True, markersize=10)"
      ],
      "metadata": {
        "id": "TsNOEhc2cAUZ"
      },
      "execution_count": 97,
      "outputs": []
    },
    {
      "cell_type": "code",
      "source": [
        "#path = get_path(\"naturalearth.land\")\n",
        "#df = gpd.read_file(path)\n",
        "#crs_epsg = ccrs.epsg(\"3857\")\n",
        "#df_epsg = df.to_crs(epsg=\"3857\")\n",
        "#gdf_epsg = gdf.to_crs(epsg=\"3857\")\n",
        "\n",
        "# Genera el subplot con el crs\n",
        "#fig, ax = plt.subplots(subplot_kw={\"projection\": crs_epsg})\n",
        "#ax.add_geometries(\n",
        "#    df_epsg[\"geometry\"], crs=crs_epsg, facecolor=\"white\", edgecolor=\"black\"\n",
        "#)\n",
        "\n",
        "# Añade los datos a plotear\n",
        "#gdf_epsg.plot(\"dif_c07c14\", ax=ax, zorder=10, legend=True, markersize=10)"
      ],
      "metadata": {
        "id": "C_Ph1ff3ikJW"
      },
      "execution_count": 7,
      "outputs": []
    },
    {
      "cell_type": "code",
      "source": [
        "# Convierte la columna de fechas a cadenas de texto\n",
        "#gdf['fecha'] = gdf['fecha'].astype(str)\n",
        "#gdf['hora'] = gdf['hora'].astype(str)\n",
        "# Ploteo con folium, mapa web\n",
        "# [\"OpenStreetMap\", \"Stamen Terrain\", “Stamen Toner\", “Stamen Watercolor\" \"CartoDB positron\", “CartoDB dark_matter\"]\n",
        "#gdf.explore(\"dif_c07c14\", legend=True, tiles=\"OpenStreetMap\", width='50%', height='50%', marker_kwds={'radius':3}, popup=True)"
      ],
      "metadata": {
        "id": "zJQgjfjiZLj9"
      },
      "execution_count": 6,
      "outputs": []
    },
    {
      "cell_type": "code",
      "source": [
        "# Uso de otros tiles\n",
        "#gdf.explore(\"dif_c07c14\", legend=True, tiles=\"https://server.arcgisonline.com/ArcGIS/rest/services/World_Imagery/MapServer/tile/{z}/{y}/{x}\", attr='ESRI',  width='50%', height='50%', marker_kwds={'radius':3}, popup=True)"
      ],
      "metadata": {
        "id": "j14WJwlBdmPC"
      },
      "execution_count": 8,
      "outputs": []
    },
    {
      "cell_type": "markdown",
      "source": [
        "6. Descarga de datos."
      ],
      "metadata": {
        "id": "tflfv_8HW34m"
      }
    },
    {
      "cell_type": "code",
      "source": [
        "#gdf.to_file('pc_20230616_sonora.shp')\n",
        "#os.system('zip pc_20230616_sonora.zip pc_20230616_sonora*')\n",
        "#s.system('rm *.cpg *.dbf *.prj *.shp *.shx')"
      ],
      "metadata": {
        "id": "korVM7jvIINZ"
      },
      "execution_count": 9,
      "outputs": []
    },
    {
      "cell_type": "markdown",
      "source": [
        "7. Consultar de temporal"
      ],
      "metadata": {
        "id": "1n41A0LYXQV2"
      }
    },
    {
      "cell_type": "code",
      "source": [
        "#conn = psycopg2.connect(conn_str)\n",
        "# Define la consulta SQL para obtener los datos geoespaciales de 2022\n",
        "#sql_query = \"SELECT * FROM puntos_10m WHERE fecha BETWEEN '2022-01-01' AND '2023-01-01' AND estado = 'SONORA'\"\n",
        "# Lee los datos geoespaciales desde la base de datos\n",
        "#gdf = gpd.read_postgis(sql_query, conn)\n",
        "\n",
        "# Cierra la conexión a la base de datos\n",
        "#conn.close()\n",
        "\n",
        "# Ahora puedes trabajar con los datos geoespaciales en GeoDataFrame (gdf)\n",
        "#print(gdf.iloc[-1])\n",
        "\n",
        "#gdf['fecha'] = gdf['fecha'].astype(str)\n",
        "#gdf['hora'] = gdf['hora'].astype(str)\n",
        "#gdf.to_file('pc_2022_sonora.shp')\n",
        "#os.system('zip pc_2022_sonora.shp pc_2022_sonora.*')\n",
        "#os.system('rm *.cpg *.dbf *.prj *.shp *.shx')"
      ],
      "metadata": {
        "id": "fjGUUWscUD99"
      },
      "execution_count": 10,
      "outputs": []
    },
    {
      "cell_type": "markdown",
      "source": [
        "8. Análisis de densidad"
      ],
      "metadata": {
        "id": "OVUY4vcGPz3s"
      }
    },
    {
      "cell_type": "code",
      "source": [
        "# Descarga de grilla\n",
        "#os.system('wget http://132.247.103.145/tmp/grid_sonora.geojson')\n",
        "#grilla = gpd.read_file('grid_sonora.geojson')\n",
        "#grilla.plot(column = \"id\")"
      ],
      "metadata": {
        "id": "vxsZonp4yZz8"
      },
      "execution_count": 11,
      "outputs": []
    },
    {
      "cell_type": "code",
      "source": [
        "# Interseccion sjoin\n",
        "#axis = grilla.plot(figsize = (20, 12))\n",
        "#gdf.plot(ax = axis, color = \"red\", alpha = 0.5,  figsize = (5, 3))\n",
        "#gdf.head()"
      ],
      "metadata": {
        "id": "fwqK_oXSWWDe"
      },
      "execution_count": 12,
      "outputs": []
    },
    {
      "cell_type": "code",
      "source": [
        "#from geopandas.tools import sjoin\n",
        "# Realiza el spatial join entre la malla y los puntos\n",
        "#grilla_sonora = sjoin(gdf, grilla, how='inner', op='within')\n",
        "# Realiza el conteo de puntos por polígono\n",
        "#conteo_puntos = grilla_sonora.groupby('id_right').size().reset_index(name='cantidad_puntos')\n",
        "# Une el resultado del conteo con la malla de polígonos\n",
        "#grilla_sonora_pc = grilla_sonora.merge(conteo_puntos, on='id_right', how='left')"
      ],
      "metadata": {
        "id": "U3hKAGizWtXd"
      },
      "execution_count": 13,
      "outputs": []
    },
    {
      "cell_type": "code",
      "source": [
        "#grilla_sonora_pc.head()"
      ],
      "metadata": {
        "id": "3PCbg2C2cznQ"
      },
      "execution_count": 14,
      "outputs": []
    },
    {
      "cell_type": "code",
      "source": [
        "# Convierte la columna de fechas a cadenas de texto\n",
        "#grilla_sonora_pc['fecha'] = gdf['fecha'].astype(str)\n",
        "#grilla_sonora_pc['hora'] = gdf['hora'].astype(str)\n",
        "# Ploteo con folium, mapa web\n",
        "#grilla_sonora_pc.explore(\"cantidad_puntos\", legend=True, tiles=\"CartoDB dark_matter\", width='50%', height='50%', popup=True)"
      ],
      "metadata": {
        "id": "s7nsrqK3cq6L"
      },
      "execution_count": 15,
      "outputs": []
    },
    {
      "cell_type": "markdown",
      "source": [
        "9. Análisis de proximidad"
      ],
      "metadata": {
        "id": "wXWJ1enFP0ya"
      }
    },
    {
      "cell_type": "code",
      "source": [
        "# Hermosillo SONORA 29.093530791130092, -110.97251069927408\n",
        "#from shapely.geometry import Polygon, LineString, Point\n",
        "\n",
        "#point = Point(-110.97251069927408, 29.093530791130092)\n",
        "#gdf.distance(point)"
      ],
      "metadata": {
        "id": "2PaY-Z0OymaU"
      },
      "execution_count": 16,
      "outputs": []
    },
    {
      "cell_type": "markdown",
      "source": [
        "10. Descarga de datos."
      ],
      "metadata": {
        "id": "Cl0yVIb5QDED"
      }
    },
    {
      "cell_type": "code",
      "source": [
        "#grilla_sonora_pc.to_file('grilla_sonora_pc.geojson', driver='GeoJSON')"
      ],
      "metadata": {
        "id": "HJOLhG0azEit"
      },
      "execution_count": 17,
      "outputs": []
    }
  ]
}